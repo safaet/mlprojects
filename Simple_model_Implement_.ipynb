{
  "nbformat": 4,
  "nbformat_minor": 0,
  "metadata": {
    "colab": {
      "provenance": [],
      "authorship_tag": "ABX9TyMuJ/ghucsUQh3u3vmuldTi",
      "include_colab_link": true
    },
    "kernelspec": {
      "name": "python3",
      "display_name": "Python 3"
    },
    "language_info": {
      "name": "python"
    }
  },
  "cells": [
    {
      "cell_type": "markdown",
      "metadata": {
        "id": "view-in-github",
        "colab_type": "text"
      },
      "source": [
        "<a href=\"https://colab.research.google.com/github/safaet/mlprojects/blob/main/Simple_model_Implement_.ipynb\" target=\"_parent\"><img src=\"https://colab.research.google.com/assets/colab-badge.svg\" alt=\"Open In Colab\"/></a>"
      ]
    },
    {
      "cell_type": "markdown",
      "source": [
        "# Creating the datasset"
      ],
      "metadata": {
        "id": "BZJjjMU0UWkE"
      }
    },
    {
      "cell_type": "code",
      "execution_count": 1,
      "metadata": {
        "id": "48tjeUvfOzem"
      },
      "outputs": [],
      "source": [
        "import pandas as pd\n",
        "import numpy as np\n",
        "\n",
        "# Set a seed for reproducibility\n",
        "np.random.seed(42)\n",
        "\n",
        "# Create a synthetic dataset\n",
        "data = {\n",
        "    'Size (sq. ft.)': np.random.randint(800, 5000, size=100),\n",
        "    'Bedrooms': np.random.randint(1, 10, size=100),\n",
        "    'Bathrooms': np.random.randint(1, 6, size=100),\n",
        "    'Lot Size (acres)': np.random.uniform(0.1, 5, size=100),\n",
        "    'Year Built': np.random.randint(1900, 2023, size=100),\n",
        "    'Neighborhood Safety': np.random.randint(1, 6, size=100),\n",
        "    'Proximity to Public Transport (miles)': np.random.uniform(0.1, 10, size=100),\n",
        "    'Distance to School (miles)': np.random.uniform(0.1, 5, size=100),\n",
        "    'House Style': np.random.choice(['Ranch', 'Colonial', 'Victorian', 'Contemporary', 'Tudor'], size=100),\n",
        "    'Garage Capacity': np.random.randint(0, 4, size=100),\n",
        "    'Swimming Pool': np.random.choice(['Yes', 'No'], size=100),\n",
        "    'Energy Efficiency': np.random.choice(['A', 'B', 'C', 'D', 'E', 'F'], size=100),\n",
        "    'Property Tax Rate': np.random.uniform(0.5, 3, size=100),\n",
        "    'Distance to Park (miles)': np.random.uniform(0.1, 5, size=100),\n",
        "    'Market Trends': np.random.choice(['Booming', 'Stable', 'Declining'], size=100),\n",
        "    'Home Security System': np.random.choice(['Yes', 'No'], size=100),\n",
        "    'Shopping Centers (miles)': np.random.uniform(0.1, 5, size=100),\n",
        "    'Quality of Construction': np.random.choice(['Low', 'Medium', 'High'], size=100),\n",
        "    'Amenities Rating': np.random.randint(1, 6, size=100),\n",
        "    'Distance to Hospital (miles)': np.random.uniform(0.1, 10, size=100),\n",
        "    'House Price': np.random.randint(200000, 800000, size=100)\n",
        "}\n",
        "\n",
        "# Create a DataFrame\n",
        "df = pd.DataFrame(data)\n",
        "\n",
        "# Save the DataFrame to a CSV file\n",
        "df.to_csv('house_price_100.csv', index=False)\n"
      ]
    },
    {
      "cell_type": "markdown",
      "source": [
        "# Main Task"
      ],
      "metadata": {
        "id": "b4IzH87cUbh4"
      }
    },
    {
      "cell_type": "code",
      "source": [
        "import pandas as pd\n",
        "from sklearn.model_selection import train_test_split"
      ],
      "metadata": {
        "id": "YyDgtxaFUbKL"
      },
      "execution_count": 2,
      "outputs": []
    },
    {
      "cell_type": "code",
      "source": [
        "from sklearn.linear_model import LinearRegression\n",
        "from sklearn.metrics import mean_squared_error"
      ],
      "metadata": {
        "id": "rS8cu8ARUMmk"
      },
      "execution_count": 3,
      "outputs": []
    },
    {
      "cell_type": "markdown",
      "source": [
        "# Load the dataset"
      ],
      "metadata": {
        "id": "WwwPz_mbU4Hx"
      }
    },
    {
      "cell_type": "code",
      "source": [
        "df = pd.read_csv('house_price.csv')"
      ],
      "metadata": {
        "id": "kthAKSZZU2wX"
      },
      "execution_count": 5,
      "outputs": []
    },
    {
      "cell_type": "markdown",
      "source": [
        "## Display the first few rows of the dataset to understand its structure"
      ],
      "metadata": {
        "id": "_vOY_cW1VI3u"
      }
    },
    {
      "cell_type": "code",
      "source": [
        "df.head()"
      ],
      "metadata": {
        "colab": {
          "base_uri": "https://localhost:8080/",
          "height": 308
        },
        "id": "-RyT2RuxU-_W",
        "outputId": "7c1331b3-18ca-45bb-935c-f5d88bb47904"
      },
      "execution_count": 7,
      "outputs": [
        {
          "output_type": "execute_result",
          "data": {
            "text/plain": [
              "   Size (sq. ft.)  Bedrooms  Bathrooms  Lot Size (acres)  Year Built  \\\n",
              "0            1660         4          4          3.176683        1992   \n",
              "1            4572         5          5          1.051942        1925   \n",
              "2            3892         7          5          0.447610        1973   \n",
              "3            1266         7          3          2.044241        1989   \n",
              "4            4244         4          1          0.348766        1933   \n",
              "\n",
              "   Neighborhood Safety  Proximity to Public Transport (miles)  \\\n",
              "0                    5                               2.869659   \n",
              "1                    3                               4.170947   \n",
              "2                    3                               6.067541   \n",
              "3                    2                               2.782481   \n",
              "4                    4                               1.418533   \n",
              "\n",
              "   Distance to School (miles)   House Style  Garage Capacity  ...  \\\n",
              "0                    1.803334      Colonial                2  ...   \n",
              "1                    0.255843      Colonial                0  ...   \n",
              "2                    2.788705         Tudor                3  ...   \n",
              "3                    2.718675      Colonial                2  ...   \n",
              "4                    1.844358  Contemporary                1  ...   \n",
              "\n",
              "  Energy Efficiency Property Tax Rate  Distance to Park (miles)  \\\n",
              "0                 F          2.330461                  4.952672   \n",
              "1                 A          1.126827                  0.101164   \n",
              "2                 E          2.082745                  1.008817   \n",
              "3                 C          1.735685                  1.981423   \n",
              "4                 C          1.933236                  4.669691   \n",
              "\n",
              "   Market Trends Home Security System Shopping Centers (miles)  \\\n",
              "0      Declining                  Yes                 0.832945   \n",
              "1      Declining                  Yes                 2.376533   \n",
              "2        Booming                  Yes                 3.434237   \n",
              "3        Booming                   No                 2.038171   \n",
              "4      Declining                   No                 4.876029   \n",
              "\n",
              "   Quality of Construction Amenities Rating  Distance to Hospital (miles)  \\\n",
              "0                      Low                1                      7.183360   \n",
              "1                     High                3                      5.260218   \n",
              "2                      Low                2                      8.241695   \n",
              "3                     High                4                      4.365535   \n",
              "4                   Medium                4                      8.977471   \n",
              "\n",
              "   House Price  \n",
              "0       699499  \n",
              "1       693948  \n",
              "2       507257  \n",
              "3       798357  \n",
              "4       429189  \n",
              "\n",
              "[5 rows x 21 columns]"
            ],
            "text/html": [
              "\n",
              "  <div id=\"df-9b115910-f949-41cc-843c-96cfcf5b289b\" class=\"colab-df-container\">\n",
              "    <div>\n",
              "<style scoped>\n",
              "    .dataframe tbody tr th:only-of-type {\n",
              "        vertical-align: middle;\n",
              "    }\n",
              "\n",
              "    .dataframe tbody tr th {\n",
              "        vertical-align: top;\n",
              "    }\n",
              "\n",
              "    .dataframe thead th {\n",
              "        text-align: right;\n",
              "    }\n",
              "</style>\n",
              "<table border=\"1\" class=\"dataframe\">\n",
              "  <thead>\n",
              "    <tr style=\"text-align: right;\">\n",
              "      <th></th>\n",
              "      <th>Size (sq. ft.)</th>\n",
              "      <th>Bedrooms</th>\n",
              "      <th>Bathrooms</th>\n",
              "      <th>Lot Size (acres)</th>\n",
              "      <th>Year Built</th>\n",
              "      <th>Neighborhood Safety</th>\n",
              "      <th>Proximity to Public Transport (miles)</th>\n",
              "      <th>Distance to School (miles)</th>\n",
              "      <th>House Style</th>\n",
              "      <th>Garage Capacity</th>\n",
              "      <th>...</th>\n",
              "      <th>Energy Efficiency</th>\n",
              "      <th>Property Tax Rate</th>\n",
              "      <th>Distance to Park (miles)</th>\n",
              "      <th>Market Trends</th>\n",
              "      <th>Home Security System</th>\n",
              "      <th>Shopping Centers (miles)</th>\n",
              "      <th>Quality of Construction</th>\n",
              "      <th>Amenities Rating</th>\n",
              "      <th>Distance to Hospital (miles)</th>\n",
              "      <th>House Price</th>\n",
              "    </tr>\n",
              "  </thead>\n",
              "  <tbody>\n",
              "    <tr>\n",
              "      <th>0</th>\n",
              "      <td>1660</td>\n",
              "      <td>4</td>\n",
              "      <td>4</td>\n",
              "      <td>3.176683</td>\n",
              "      <td>1992</td>\n",
              "      <td>5</td>\n",
              "      <td>2.869659</td>\n",
              "      <td>1.803334</td>\n",
              "      <td>Colonial</td>\n",
              "      <td>2</td>\n",
              "      <td>...</td>\n",
              "      <td>F</td>\n",
              "      <td>2.330461</td>\n",
              "      <td>4.952672</td>\n",
              "      <td>Declining</td>\n",
              "      <td>Yes</td>\n",
              "      <td>0.832945</td>\n",
              "      <td>Low</td>\n",
              "      <td>1</td>\n",
              "      <td>7.183360</td>\n",
              "      <td>699499</td>\n",
              "    </tr>\n",
              "    <tr>\n",
              "      <th>1</th>\n",
              "      <td>4572</td>\n",
              "      <td>5</td>\n",
              "      <td>5</td>\n",
              "      <td>1.051942</td>\n",
              "      <td>1925</td>\n",
              "      <td>3</td>\n",
              "      <td>4.170947</td>\n",
              "      <td>0.255843</td>\n",
              "      <td>Colonial</td>\n",
              "      <td>0</td>\n",
              "      <td>...</td>\n",
              "      <td>A</td>\n",
              "      <td>1.126827</td>\n",
              "      <td>0.101164</td>\n",
              "      <td>Declining</td>\n",
              "      <td>Yes</td>\n",
              "      <td>2.376533</td>\n",
              "      <td>High</td>\n",
              "      <td>3</td>\n",
              "      <td>5.260218</td>\n",
              "      <td>693948</td>\n",
              "    </tr>\n",
              "    <tr>\n",
              "      <th>2</th>\n",
              "      <td>3892</td>\n",
              "      <td>7</td>\n",
              "      <td>5</td>\n",
              "      <td>0.447610</td>\n",
              "      <td>1973</td>\n",
              "      <td>3</td>\n",
              "      <td>6.067541</td>\n",
              "      <td>2.788705</td>\n",
              "      <td>Tudor</td>\n",
              "      <td>3</td>\n",
              "      <td>...</td>\n",
              "      <td>E</td>\n",
              "      <td>2.082745</td>\n",
              "      <td>1.008817</td>\n",
              "      <td>Booming</td>\n",
              "      <td>Yes</td>\n",
              "      <td>3.434237</td>\n",
              "      <td>Low</td>\n",
              "      <td>2</td>\n",
              "      <td>8.241695</td>\n",
              "      <td>507257</td>\n",
              "    </tr>\n",
              "    <tr>\n",
              "      <th>3</th>\n",
              "      <td>1266</td>\n",
              "      <td>7</td>\n",
              "      <td>3</td>\n",
              "      <td>2.044241</td>\n",
              "      <td>1989</td>\n",
              "      <td>2</td>\n",
              "      <td>2.782481</td>\n",
              "      <td>2.718675</td>\n",
              "      <td>Colonial</td>\n",
              "      <td>2</td>\n",
              "      <td>...</td>\n",
              "      <td>C</td>\n",
              "      <td>1.735685</td>\n",
              "      <td>1.981423</td>\n",
              "      <td>Booming</td>\n",
              "      <td>No</td>\n",
              "      <td>2.038171</td>\n",
              "      <td>High</td>\n",
              "      <td>4</td>\n",
              "      <td>4.365535</td>\n",
              "      <td>798357</td>\n",
              "    </tr>\n",
              "    <tr>\n",
              "      <th>4</th>\n",
              "      <td>4244</td>\n",
              "      <td>4</td>\n",
              "      <td>1</td>\n",
              "      <td>0.348766</td>\n",
              "      <td>1933</td>\n",
              "      <td>4</td>\n",
              "      <td>1.418533</td>\n",
              "      <td>1.844358</td>\n",
              "      <td>Contemporary</td>\n",
              "      <td>1</td>\n",
              "      <td>...</td>\n",
              "      <td>C</td>\n",
              "      <td>1.933236</td>\n",
              "      <td>4.669691</td>\n",
              "      <td>Declining</td>\n",
              "      <td>No</td>\n",
              "      <td>4.876029</td>\n",
              "      <td>Medium</td>\n",
              "      <td>4</td>\n",
              "      <td>8.977471</td>\n",
              "      <td>429189</td>\n",
              "    </tr>\n",
              "  </tbody>\n",
              "</table>\n",
              "<p>5 rows × 21 columns</p>\n",
              "</div>\n",
              "    <div class=\"colab-df-buttons\">\n",
              "\n",
              "  <div class=\"colab-df-container\">\n",
              "    <button class=\"colab-df-convert\" onclick=\"convertToInteractive('df-9b115910-f949-41cc-843c-96cfcf5b289b')\"\n",
              "            title=\"Convert this dataframe to an interactive table.\"\n",
              "            style=\"display:none;\">\n",
              "\n",
              "  <svg xmlns=\"http://www.w3.org/2000/svg\" height=\"24px\" viewBox=\"0 -960 960 960\">\n",
              "    <path d=\"M120-120v-720h720v720H120Zm60-500h600v-160H180v160Zm220 220h160v-160H400v160Zm0 220h160v-160H400v160ZM180-400h160v-160H180v160Zm440 0h160v-160H620v160ZM180-180h160v-160H180v160Zm440 0h160v-160H620v160Z\"/>\n",
              "  </svg>\n",
              "    </button>\n",
              "\n",
              "  <style>\n",
              "    .colab-df-container {\n",
              "      display:flex;\n",
              "      gap: 12px;\n",
              "    }\n",
              "\n",
              "    .colab-df-convert {\n",
              "      background-color: #E8F0FE;\n",
              "      border: none;\n",
              "      border-radius: 50%;\n",
              "      cursor: pointer;\n",
              "      display: none;\n",
              "      fill: #1967D2;\n",
              "      height: 32px;\n",
              "      padding: 0 0 0 0;\n",
              "      width: 32px;\n",
              "    }\n",
              "\n",
              "    .colab-df-convert:hover {\n",
              "      background-color: #E2EBFA;\n",
              "      box-shadow: 0px 1px 2px rgba(60, 64, 67, 0.3), 0px 1px 3px 1px rgba(60, 64, 67, 0.15);\n",
              "      fill: #174EA6;\n",
              "    }\n",
              "\n",
              "    .colab-df-buttons div {\n",
              "      margin-bottom: 4px;\n",
              "    }\n",
              "\n",
              "    [theme=dark] .colab-df-convert {\n",
              "      background-color: #3B4455;\n",
              "      fill: #D2E3FC;\n",
              "    }\n",
              "\n",
              "    [theme=dark] .colab-df-convert:hover {\n",
              "      background-color: #434B5C;\n",
              "      box-shadow: 0px 1px 3px 1px rgba(0, 0, 0, 0.15);\n",
              "      filter: drop-shadow(0px 1px 2px rgba(0, 0, 0, 0.3));\n",
              "      fill: #FFFFFF;\n",
              "    }\n",
              "  </style>\n",
              "\n",
              "    <script>\n",
              "      const buttonEl =\n",
              "        document.querySelector('#df-9b115910-f949-41cc-843c-96cfcf5b289b button.colab-df-convert');\n",
              "      buttonEl.style.display =\n",
              "        google.colab.kernel.accessAllowed ? 'block' : 'none';\n",
              "\n",
              "      async function convertToInteractive(key) {\n",
              "        const element = document.querySelector('#df-9b115910-f949-41cc-843c-96cfcf5b289b');\n",
              "        const dataTable =\n",
              "          await google.colab.kernel.invokeFunction('convertToInteractive',\n",
              "                                                    [key], {});\n",
              "        if (!dataTable) return;\n",
              "\n",
              "        const docLinkHtml = 'Like what you see? Visit the ' +\n",
              "          '<a target=\"_blank\" href=https://colab.research.google.com/notebooks/data_table.ipynb>data table notebook</a>'\n",
              "          + ' to learn more about interactive tables.';\n",
              "        element.innerHTML = '';\n",
              "        dataTable['output_type'] = 'display_data';\n",
              "        await google.colab.output.renderOutput(dataTable, element);\n",
              "        const docLink = document.createElement('div');\n",
              "        docLink.innerHTML = docLinkHtml;\n",
              "        element.appendChild(docLink);\n",
              "      }\n",
              "    </script>\n",
              "  </div>\n",
              "\n",
              "\n",
              "<div id=\"df-9b871343-6177-437a-8f29-293c77e6dc24\">\n",
              "  <button class=\"colab-df-quickchart\" onclick=\"quickchart('df-9b871343-6177-437a-8f29-293c77e6dc24')\"\n",
              "            title=\"Suggest charts\"\n",
              "            style=\"display:none;\">\n",
              "\n",
              "<svg xmlns=\"http://www.w3.org/2000/svg\" height=\"24px\"viewBox=\"0 0 24 24\"\n",
              "     width=\"24px\">\n",
              "    <g>\n",
              "        <path d=\"M19 3H5c-1.1 0-2 .9-2 2v14c0 1.1.9 2 2 2h14c1.1 0 2-.9 2-2V5c0-1.1-.9-2-2-2zM9 17H7v-7h2v7zm4 0h-2V7h2v10zm4 0h-2v-4h2v4z\"/>\n",
              "    </g>\n",
              "</svg>\n",
              "  </button>\n",
              "\n",
              "<style>\n",
              "  .colab-df-quickchart {\n",
              "      --bg-color: #E8F0FE;\n",
              "      --fill-color: #1967D2;\n",
              "      --hover-bg-color: #E2EBFA;\n",
              "      --hover-fill-color: #174EA6;\n",
              "      --disabled-fill-color: #AAA;\n",
              "      --disabled-bg-color: #DDD;\n",
              "  }\n",
              "\n",
              "  [theme=dark] .colab-df-quickchart {\n",
              "      --bg-color: #3B4455;\n",
              "      --fill-color: #D2E3FC;\n",
              "      --hover-bg-color: #434B5C;\n",
              "      --hover-fill-color: #FFFFFF;\n",
              "      --disabled-bg-color: #3B4455;\n",
              "      --disabled-fill-color: #666;\n",
              "  }\n",
              "\n",
              "  .colab-df-quickchart {\n",
              "    background-color: var(--bg-color);\n",
              "    border: none;\n",
              "    border-radius: 50%;\n",
              "    cursor: pointer;\n",
              "    display: none;\n",
              "    fill: var(--fill-color);\n",
              "    height: 32px;\n",
              "    padding: 0;\n",
              "    width: 32px;\n",
              "  }\n",
              "\n",
              "  .colab-df-quickchart:hover {\n",
              "    background-color: var(--hover-bg-color);\n",
              "    box-shadow: 0 1px 2px rgba(60, 64, 67, 0.3), 0 1px 3px 1px rgba(60, 64, 67, 0.15);\n",
              "    fill: var(--button-hover-fill-color);\n",
              "  }\n",
              "\n",
              "  .colab-df-quickchart-complete:disabled,\n",
              "  .colab-df-quickchart-complete:disabled:hover {\n",
              "    background-color: var(--disabled-bg-color);\n",
              "    fill: var(--disabled-fill-color);\n",
              "    box-shadow: none;\n",
              "  }\n",
              "\n",
              "  .colab-df-spinner {\n",
              "    border: 2px solid var(--fill-color);\n",
              "    border-color: transparent;\n",
              "    border-bottom-color: var(--fill-color);\n",
              "    animation:\n",
              "      spin 1s steps(1) infinite;\n",
              "  }\n",
              "\n",
              "  @keyframes spin {\n",
              "    0% {\n",
              "      border-color: transparent;\n",
              "      border-bottom-color: var(--fill-color);\n",
              "      border-left-color: var(--fill-color);\n",
              "    }\n",
              "    20% {\n",
              "      border-color: transparent;\n",
              "      border-left-color: var(--fill-color);\n",
              "      border-top-color: var(--fill-color);\n",
              "    }\n",
              "    30% {\n",
              "      border-color: transparent;\n",
              "      border-left-color: var(--fill-color);\n",
              "      border-top-color: var(--fill-color);\n",
              "      border-right-color: var(--fill-color);\n",
              "    }\n",
              "    40% {\n",
              "      border-color: transparent;\n",
              "      border-right-color: var(--fill-color);\n",
              "      border-top-color: var(--fill-color);\n",
              "    }\n",
              "    60% {\n",
              "      border-color: transparent;\n",
              "      border-right-color: var(--fill-color);\n",
              "    }\n",
              "    80% {\n",
              "      border-color: transparent;\n",
              "      border-right-color: var(--fill-color);\n",
              "      border-bottom-color: var(--fill-color);\n",
              "    }\n",
              "    90% {\n",
              "      border-color: transparent;\n",
              "      border-bottom-color: var(--fill-color);\n",
              "    }\n",
              "  }\n",
              "</style>\n",
              "\n",
              "  <script>\n",
              "    async function quickchart(key) {\n",
              "      const quickchartButtonEl =\n",
              "        document.querySelector('#' + key + ' button');\n",
              "      quickchartButtonEl.disabled = true;  // To prevent multiple clicks.\n",
              "      quickchartButtonEl.classList.add('colab-df-spinner');\n",
              "      try {\n",
              "        const charts = await google.colab.kernel.invokeFunction(\n",
              "            'suggestCharts', [key], {});\n",
              "      } catch (error) {\n",
              "        console.error('Error during call to suggestCharts:', error);\n",
              "      }\n",
              "      quickchartButtonEl.classList.remove('colab-df-spinner');\n",
              "      quickchartButtonEl.classList.add('colab-df-quickchart-complete');\n",
              "    }\n",
              "    (() => {\n",
              "      let quickchartButtonEl =\n",
              "        document.querySelector('#df-9b871343-6177-437a-8f29-293c77e6dc24 button');\n",
              "      quickchartButtonEl.style.display =\n",
              "        google.colab.kernel.accessAllowed ? 'block' : 'none';\n",
              "    })();\n",
              "  </script>\n",
              "</div>\n",
              "    </div>\n",
              "  </div>\n"
            ]
          },
          "metadata": {},
          "execution_count": 7
        }
      ]
    },
    {
      "cell_type": "markdown",
      "source": [
        "## Check for missing values"
      ],
      "metadata": {
        "id": "tc2CFc-xVeA9"
      }
    },
    {
      "cell_type": "code",
      "source": [
        "df.isnull().sum()"
      ],
      "metadata": {
        "colab": {
          "base_uri": "https://localhost:8080/"
        },
        "id": "EHMHXk_nVTIK",
        "outputId": "df3e2be9-78b8-49da-ffd9-12017623a1aa"
      },
      "execution_count": 8,
      "outputs": [
        {
          "output_type": "execute_result",
          "data": {
            "text/plain": [
              "Size (sq. ft.)                           0\n",
              "Bedrooms                                 0\n",
              "Bathrooms                                0\n",
              "Lot Size (acres)                         0\n",
              "Year Built                               0\n",
              "Neighborhood Safety                      0\n",
              "Proximity to Public Transport (miles)    0\n",
              "Distance to School (miles)               0\n",
              "House Style                              0\n",
              "Garage Capacity                          0\n",
              "Swimming Pool                            0\n",
              "Energy Efficiency                        0\n",
              "Property Tax Rate                        0\n",
              "Distance to Park (miles)                 0\n",
              "Market Trends                            0\n",
              "Home Security System                     0\n",
              "Shopping Centers (miles)                 0\n",
              "Quality of Construction                  0\n",
              "Amenities Rating                         0\n",
              "Distance to Hospital (miles)             0\n",
              "House Price                              0\n",
              "dtype: int64"
            ]
          },
          "metadata": {},
          "execution_count": 8
        }
      ]
    },
    {
      "cell_type": "markdown",
      "source": [
        "# Split the dataset into feature (X) and target variable (y)"
      ],
      "metadata": {
        "id": "bzL33_CEVnSl"
      }
    },
    {
      "cell_type": "code",
      "source": [
        "X = df.drop('House Price', axis=1)\n",
        "y = df['House Price']"
      ],
      "metadata": {
        "id": "7iaXZPJ3VjVH"
      },
      "execution_count": 9,
      "outputs": []
    },
    {
      "cell_type": "markdown",
      "source": [
        "## Perform one-hot encoding for categorical variable (if needed)"
      ],
      "metadata": {
        "id": "wUY9gAK5V7Ig"
      }
    },
    {
      "cell_type": "code",
      "source": [
        "X = pd.get_dummies(X)"
      ],
      "metadata": {
        "id": "tNqdxqHTV5mi"
      },
      "execution_count": 10,
      "outputs": []
    },
    {
      "cell_type": "markdown",
      "source": [
        "## Split the dataset into training and testing sets"
      ],
      "metadata": {
        "id": "u8VkSk3XWLJ8"
      }
    },
    {
      "cell_type": "code",
      "source": [
        "X_train, X_test, y_train, y_test = train_test_split(X, y, test_size=0.2, random_state=42)"
      ],
      "metadata": {
        "id": "D3yoq8wqWKMR"
      },
      "execution_count": 11,
      "outputs": []
    },
    {
      "cell_type": "markdown",
      "source": [
        "# Select a Machine Learning Algorithm (Linear Regression)"
      ],
      "metadata": {
        "id": "5VgKyeAoWf0n"
      }
    },
    {
      "cell_type": "code",
      "source": [
        "model = LinearRegression()"
      ],
      "metadata": {
        "id": "3uPiOeU0Wc6t"
      },
      "execution_count": 12,
      "outputs": []
    },
    {
      "cell_type": "markdown",
      "source": [
        "# Train the Model"
      ],
      "metadata": {
        "id": "MjN8nYYwWr9y"
      }
    },
    {
      "cell_type": "code",
      "source": [
        "model.fit(X_train, y_train)"
      ],
      "metadata": {
        "colab": {
          "base_uri": "https://localhost:8080/",
          "height": 75
        },
        "id": "3azIF8bVWqcz",
        "outputId": "9b8f0b2b-327b-4783-dc26-c884bdb257a4"
      },
      "execution_count": 13,
      "outputs": [
        {
          "output_type": "execute_result",
          "data": {
            "text/plain": [
              "LinearRegression()"
            ],
            "text/html": [
              "<style>#sk-container-id-1 {color: black;background-color: white;}#sk-container-id-1 pre{padding: 0;}#sk-container-id-1 div.sk-toggleable {background-color: white;}#sk-container-id-1 label.sk-toggleable__label {cursor: pointer;display: block;width: 100%;margin-bottom: 0;padding: 0.3em;box-sizing: border-box;text-align: center;}#sk-container-id-1 label.sk-toggleable__label-arrow:before {content: \"▸\";float: left;margin-right: 0.25em;color: #696969;}#sk-container-id-1 label.sk-toggleable__label-arrow:hover:before {color: black;}#sk-container-id-1 div.sk-estimator:hover label.sk-toggleable__label-arrow:before {color: black;}#sk-container-id-1 div.sk-toggleable__content {max-height: 0;max-width: 0;overflow: hidden;text-align: left;background-color: #f0f8ff;}#sk-container-id-1 div.sk-toggleable__content pre {margin: 0.2em;color: black;border-radius: 0.25em;background-color: #f0f8ff;}#sk-container-id-1 input.sk-toggleable__control:checked~div.sk-toggleable__content {max-height: 200px;max-width: 100%;overflow: auto;}#sk-container-id-1 input.sk-toggleable__control:checked~label.sk-toggleable__label-arrow:before {content: \"▾\";}#sk-container-id-1 div.sk-estimator input.sk-toggleable__control:checked~label.sk-toggleable__label {background-color: #d4ebff;}#sk-container-id-1 div.sk-label input.sk-toggleable__control:checked~label.sk-toggleable__label {background-color: #d4ebff;}#sk-container-id-1 input.sk-hidden--visually {border: 0;clip: rect(1px 1px 1px 1px);clip: rect(1px, 1px, 1px, 1px);height: 1px;margin: -1px;overflow: hidden;padding: 0;position: absolute;width: 1px;}#sk-container-id-1 div.sk-estimator {font-family: monospace;background-color: #f0f8ff;border: 1px dotted black;border-radius: 0.25em;box-sizing: border-box;margin-bottom: 0.5em;}#sk-container-id-1 div.sk-estimator:hover {background-color: #d4ebff;}#sk-container-id-1 div.sk-parallel-item::after {content: \"\";width: 100%;border-bottom: 1px solid gray;flex-grow: 1;}#sk-container-id-1 div.sk-label:hover label.sk-toggleable__label {background-color: #d4ebff;}#sk-container-id-1 div.sk-serial::before {content: \"\";position: absolute;border-left: 1px solid gray;box-sizing: border-box;top: 0;bottom: 0;left: 50%;z-index: 0;}#sk-container-id-1 div.sk-serial {display: flex;flex-direction: column;align-items: center;background-color: white;padding-right: 0.2em;padding-left: 0.2em;position: relative;}#sk-container-id-1 div.sk-item {position: relative;z-index: 1;}#sk-container-id-1 div.sk-parallel {display: flex;align-items: stretch;justify-content: center;background-color: white;position: relative;}#sk-container-id-1 div.sk-item::before, #sk-container-id-1 div.sk-parallel-item::before {content: \"\";position: absolute;border-left: 1px solid gray;box-sizing: border-box;top: 0;bottom: 0;left: 50%;z-index: -1;}#sk-container-id-1 div.sk-parallel-item {display: flex;flex-direction: column;z-index: 1;position: relative;background-color: white;}#sk-container-id-1 div.sk-parallel-item:first-child::after {align-self: flex-end;width: 50%;}#sk-container-id-1 div.sk-parallel-item:last-child::after {align-self: flex-start;width: 50%;}#sk-container-id-1 div.sk-parallel-item:only-child::after {width: 0;}#sk-container-id-1 div.sk-dashed-wrapped {border: 1px dashed gray;margin: 0 0.4em 0.5em 0.4em;box-sizing: border-box;padding-bottom: 0.4em;background-color: white;}#sk-container-id-1 div.sk-label label {font-family: monospace;font-weight: bold;display: inline-block;line-height: 1.2em;}#sk-container-id-1 div.sk-label-container {text-align: center;}#sk-container-id-1 div.sk-container {/* jupyter's `normalize.less` sets `[hidden] { display: none; }` but bootstrap.min.css set `[hidden] { display: none !important; }` so we also need the `!important` here to be able to override the default hidden behavior on the sphinx rendered scikit-learn.org. See: https://github.com/scikit-learn/scikit-learn/issues/21755 */display: inline-block !important;position: relative;}#sk-container-id-1 div.sk-text-repr-fallback {display: none;}</style><div id=\"sk-container-id-1\" class=\"sk-top-container\"><div class=\"sk-text-repr-fallback\"><pre>LinearRegression()</pre><b>In a Jupyter environment, please rerun this cell to show the HTML representation or trust the notebook. <br />On GitHub, the HTML representation is unable to render, please try loading this page with nbviewer.org.</b></div><div class=\"sk-container\" hidden><div class=\"sk-item\"><div class=\"sk-estimator sk-toggleable\"><input class=\"sk-toggleable__control sk-hidden--visually\" id=\"sk-estimator-id-1\" type=\"checkbox\" checked><label for=\"sk-estimator-id-1\" class=\"sk-toggleable__label sk-toggleable__label-arrow\">LinearRegression</label><div class=\"sk-toggleable__content\"><pre>LinearRegression()</pre></div></div></div></div></div>"
            ]
          },
          "metadata": {},
          "execution_count": 13
        }
      ]
    },
    {
      "cell_type": "markdown",
      "source": [
        "# Evaluate the Model"
      ],
      "metadata": {
        "id": "uVV3_Fd0Wz9G"
      }
    },
    {
      "cell_type": "code",
      "source": [
        "predictions = model.predict(X_test)\n",
        "mse = mean_squared_error(y_test, predictions)"
      ],
      "metadata": {
        "id": "Vv_RzmbCWyZl"
      },
      "execution_count": 14,
      "outputs": []
    },
    {
      "cell_type": "code",
      "source": [
        "print(f'Mean Squared Error: {mse}')"
      ],
      "metadata": {
        "colab": {
          "base_uri": "https://localhost:8080/"
        },
        "id": "KHnHGcy1XFhq",
        "outputId": "e3e1eea9-d9dc-4583-8406-1c9ad613b084"
      },
      "execution_count": 15,
      "outputs": [
        {
          "output_type": "stream",
          "name": "stdout",
          "text": [
            "Mean Squared Error: 58740081760.74007\n"
          ]
        }
      ]
    },
    {
      "cell_type": "markdown",
      "source": [
        "# Make Predictions"
      ],
      "metadata": {
        "id": "fK8DiJk7XQ1V"
      }
    },
    {
      "cell_type": "code",
      "source": [
        "new_data = X.head(1)  # Use the first row of the dataset as new data for prediction\n",
        "predicted_price = model.predict(new_data)"
      ],
      "metadata": {
        "id": "hdIxHx-IXJWp"
      },
      "execution_count": 16,
      "outputs": []
    },
    {
      "cell_type": "code",
      "source": [
        "new_data"
      ],
      "metadata": {
        "colab": {
          "base_uri": "https://localhost:8080/",
          "height": 182
        },
        "id": "AIJvGTccXy8S",
        "outputId": "fdad3c33-b3e1-44dd-8f06-79eca4e27de8"
      },
      "execution_count": 19,
      "outputs": [
        {
          "output_type": "execute_result",
          "data": {
            "text/plain": [
              "   Size (sq. ft.)  Bedrooms  Bathrooms  Lot Size (acres)  Year Built  \\\n",
              "0            1660         4          4          3.176683        1992   \n",
              "\n",
              "   Neighborhood Safety  Proximity to Public Transport (miles)  \\\n",
              "0                    5                               2.869659   \n",
              "\n",
              "   Distance to School (miles)  Garage Capacity  Property Tax Rate  ...  \\\n",
              "0                    1.803334                2           2.330461  ...   \n",
              "\n",
              "   Energy Efficiency_E  Energy Efficiency_F  Market Trends_Booming  \\\n",
              "0                    0                    1                      0   \n",
              "\n",
              "   Market Trends_Declining  Market Trends_Stable  Home Security System_No  \\\n",
              "0                        1                     0                        0   \n",
              "\n",
              "   Home Security System_Yes  Quality of Construction_High  \\\n",
              "0                         1                             0   \n",
              "\n",
              "   Quality of Construction_Low  Quality of Construction_Medium  \n",
              "0                            1                               0  \n",
              "\n",
              "[1 rows x 35 columns]"
            ],
            "text/html": [
              "\n",
              "  <div id=\"df-fed7b420-e2a3-4618-99e4-f114e2059599\" class=\"colab-df-container\">\n",
              "    <div>\n",
              "<style scoped>\n",
              "    .dataframe tbody tr th:only-of-type {\n",
              "        vertical-align: middle;\n",
              "    }\n",
              "\n",
              "    .dataframe tbody tr th {\n",
              "        vertical-align: top;\n",
              "    }\n",
              "\n",
              "    .dataframe thead th {\n",
              "        text-align: right;\n",
              "    }\n",
              "</style>\n",
              "<table border=\"1\" class=\"dataframe\">\n",
              "  <thead>\n",
              "    <tr style=\"text-align: right;\">\n",
              "      <th></th>\n",
              "      <th>Size (sq. ft.)</th>\n",
              "      <th>Bedrooms</th>\n",
              "      <th>Bathrooms</th>\n",
              "      <th>Lot Size (acres)</th>\n",
              "      <th>Year Built</th>\n",
              "      <th>Neighborhood Safety</th>\n",
              "      <th>Proximity to Public Transport (miles)</th>\n",
              "      <th>Distance to School (miles)</th>\n",
              "      <th>Garage Capacity</th>\n",
              "      <th>Property Tax Rate</th>\n",
              "      <th>...</th>\n",
              "      <th>Energy Efficiency_E</th>\n",
              "      <th>Energy Efficiency_F</th>\n",
              "      <th>Market Trends_Booming</th>\n",
              "      <th>Market Trends_Declining</th>\n",
              "      <th>Market Trends_Stable</th>\n",
              "      <th>Home Security System_No</th>\n",
              "      <th>Home Security System_Yes</th>\n",
              "      <th>Quality of Construction_High</th>\n",
              "      <th>Quality of Construction_Low</th>\n",
              "      <th>Quality of Construction_Medium</th>\n",
              "    </tr>\n",
              "  </thead>\n",
              "  <tbody>\n",
              "    <tr>\n",
              "      <th>0</th>\n",
              "      <td>1660</td>\n",
              "      <td>4</td>\n",
              "      <td>4</td>\n",
              "      <td>3.176683</td>\n",
              "      <td>1992</td>\n",
              "      <td>5</td>\n",
              "      <td>2.869659</td>\n",
              "      <td>1.803334</td>\n",
              "      <td>2</td>\n",
              "      <td>2.330461</td>\n",
              "      <td>...</td>\n",
              "      <td>0</td>\n",
              "      <td>1</td>\n",
              "      <td>0</td>\n",
              "      <td>1</td>\n",
              "      <td>0</td>\n",
              "      <td>0</td>\n",
              "      <td>1</td>\n",
              "      <td>0</td>\n",
              "      <td>1</td>\n",
              "      <td>0</td>\n",
              "    </tr>\n",
              "  </tbody>\n",
              "</table>\n",
              "<p>1 rows × 35 columns</p>\n",
              "</div>\n",
              "    <div class=\"colab-df-buttons\">\n",
              "\n",
              "  <div class=\"colab-df-container\">\n",
              "    <button class=\"colab-df-convert\" onclick=\"convertToInteractive('df-fed7b420-e2a3-4618-99e4-f114e2059599')\"\n",
              "            title=\"Convert this dataframe to an interactive table.\"\n",
              "            style=\"display:none;\">\n",
              "\n",
              "  <svg xmlns=\"http://www.w3.org/2000/svg\" height=\"24px\" viewBox=\"0 -960 960 960\">\n",
              "    <path d=\"M120-120v-720h720v720H120Zm60-500h600v-160H180v160Zm220 220h160v-160H400v160Zm0 220h160v-160H400v160ZM180-400h160v-160H180v160Zm440 0h160v-160H620v160ZM180-180h160v-160H180v160Zm440 0h160v-160H620v160Z\"/>\n",
              "  </svg>\n",
              "    </button>\n",
              "\n",
              "  <style>\n",
              "    .colab-df-container {\n",
              "      display:flex;\n",
              "      gap: 12px;\n",
              "    }\n",
              "\n",
              "    .colab-df-convert {\n",
              "      background-color: #E8F0FE;\n",
              "      border: none;\n",
              "      border-radius: 50%;\n",
              "      cursor: pointer;\n",
              "      display: none;\n",
              "      fill: #1967D2;\n",
              "      height: 32px;\n",
              "      padding: 0 0 0 0;\n",
              "      width: 32px;\n",
              "    }\n",
              "\n",
              "    .colab-df-convert:hover {\n",
              "      background-color: #E2EBFA;\n",
              "      box-shadow: 0px 1px 2px rgba(60, 64, 67, 0.3), 0px 1px 3px 1px rgba(60, 64, 67, 0.15);\n",
              "      fill: #174EA6;\n",
              "    }\n",
              "\n",
              "    .colab-df-buttons div {\n",
              "      margin-bottom: 4px;\n",
              "    }\n",
              "\n",
              "    [theme=dark] .colab-df-convert {\n",
              "      background-color: #3B4455;\n",
              "      fill: #D2E3FC;\n",
              "    }\n",
              "\n",
              "    [theme=dark] .colab-df-convert:hover {\n",
              "      background-color: #434B5C;\n",
              "      box-shadow: 0px 1px 3px 1px rgba(0, 0, 0, 0.15);\n",
              "      filter: drop-shadow(0px 1px 2px rgba(0, 0, 0, 0.3));\n",
              "      fill: #FFFFFF;\n",
              "    }\n",
              "  </style>\n",
              "\n",
              "    <script>\n",
              "      const buttonEl =\n",
              "        document.querySelector('#df-fed7b420-e2a3-4618-99e4-f114e2059599 button.colab-df-convert');\n",
              "      buttonEl.style.display =\n",
              "        google.colab.kernel.accessAllowed ? 'block' : 'none';\n",
              "\n",
              "      async function convertToInteractive(key) {\n",
              "        const element = document.querySelector('#df-fed7b420-e2a3-4618-99e4-f114e2059599');\n",
              "        const dataTable =\n",
              "          await google.colab.kernel.invokeFunction('convertToInteractive',\n",
              "                                                    [key], {});\n",
              "        if (!dataTable) return;\n",
              "\n",
              "        const docLinkHtml = 'Like what you see? Visit the ' +\n",
              "          '<a target=\"_blank\" href=https://colab.research.google.com/notebooks/data_table.ipynb>data table notebook</a>'\n",
              "          + ' to learn more about interactive tables.';\n",
              "        element.innerHTML = '';\n",
              "        dataTable['output_type'] = 'display_data';\n",
              "        await google.colab.output.renderOutput(dataTable, element);\n",
              "        const docLink = document.createElement('div');\n",
              "        docLink.innerHTML = docLinkHtml;\n",
              "        element.appendChild(docLink);\n",
              "      }\n",
              "    </script>\n",
              "  </div>\n",
              "\n",
              "    </div>\n",
              "  </div>\n"
            ]
          },
          "metadata": {},
          "execution_count": 19
        }
      ]
    },
    {
      "cell_type": "code",
      "source": [
        "print(f'Predicted House Price: {predicted_price[0]}')"
      ],
      "metadata": {
        "colab": {
          "base_uri": "https://localhost:8080/"
        },
        "id": "tD1SByemXjmk",
        "outputId": "95477fa0-5d16-4f98-9d61-dd14c27f71dd"
      },
      "execution_count": 17,
      "outputs": [
        {
          "output_type": "stream",
          "name": "stdout",
          "text": [
            "Predicted House Price: 340536.0174055396\n"
          ]
        }
      ]
    },
    {
      "cell_type": "code",
      "source": [],
      "metadata": {
        "id": "24G5yeUeXp_-"
      },
      "execution_count": null,
      "outputs": []
    }
  ]
}